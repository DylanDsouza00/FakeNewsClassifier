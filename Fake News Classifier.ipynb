{
 "cells": [
  {
   "cell_type": "code",
   "execution_count": 1,
   "metadata": {},
   "outputs": [],
   "source": [
    "import pandas as pd"
   ]
  },
  {
   "cell_type": "code",
   "execution_count": 2,
   "metadata": {},
   "outputs": [],
   "source": [
    "df=pd.read_csv(r\"C:\\Users\\dsouz\\Downloads\\DataScienceScripts\\Fakenews\\train.csv\")"
   ]
  },
  {
   "cell_type": "code",
   "execution_count": 3,
   "metadata": {},
   "outputs": [
    {
     "data": {
      "text/html": [
       "<div>\n",
       "<style scoped>\n",
       "    .dataframe tbody tr th:only-of-type {\n",
       "        vertical-align: middle;\n",
       "    }\n",
       "\n",
       "    .dataframe tbody tr th {\n",
       "        vertical-align: top;\n",
       "    }\n",
       "\n",
       "    .dataframe thead th {\n",
       "        text-align: right;\n",
       "    }\n",
       "</style>\n",
       "<table border=\"1\" class=\"dataframe\">\n",
       "  <thead>\n",
       "    <tr style=\"text-align: right;\">\n",
       "      <th></th>\n",
       "      <th>id</th>\n",
       "      <th>title</th>\n",
       "      <th>author</th>\n",
       "      <th>text</th>\n",
       "      <th>label</th>\n",
       "    </tr>\n",
       "  </thead>\n",
       "  <tbody>\n",
       "    <tr>\n",
       "      <th>0</th>\n",
       "      <td>0</td>\n",
       "      <td>House Dem Aide: We Didn’t Even See Comey’s Let...</td>\n",
       "      <td>Darrell Lucus</td>\n",
       "      <td>House Dem Aide: We Didn’t Even See Comey’s Let...</td>\n",
       "      <td>1</td>\n",
       "    </tr>\n",
       "    <tr>\n",
       "      <th>1</th>\n",
       "      <td>1</td>\n",
       "      <td>FLYNN: Hillary Clinton, Big Woman on Campus - ...</td>\n",
       "      <td>Daniel J. Flynn</td>\n",
       "      <td>Ever get the feeling your life circles the rou...</td>\n",
       "      <td>0</td>\n",
       "    </tr>\n",
       "    <tr>\n",
       "      <th>2</th>\n",
       "      <td>2</td>\n",
       "      <td>Why the Truth Might Get You Fired</td>\n",
       "      <td>Consortiumnews.com</td>\n",
       "      <td>Why the Truth Might Get You Fired October 29, ...</td>\n",
       "      <td>1</td>\n",
       "    </tr>\n",
       "    <tr>\n",
       "      <th>3</th>\n",
       "      <td>3</td>\n",
       "      <td>15 Civilians Killed In Single US Airstrike Hav...</td>\n",
       "      <td>Jessica Purkiss</td>\n",
       "      <td>Videos 15 Civilians Killed In Single US Airstr...</td>\n",
       "      <td>1</td>\n",
       "    </tr>\n",
       "    <tr>\n",
       "      <th>4</th>\n",
       "      <td>4</td>\n",
       "      <td>Iranian woman jailed for fictional unpublished...</td>\n",
       "      <td>Howard Portnoy</td>\n",
       "      <td>Print \\nAn Iranian woman has been sentenced to...</td>\n",
       "      <td>1</td>\n",
       "    </tr>\n",
       "    <tr>\n",
       "      <th>5</th>\n",
       "      <td>5</td>\n",
       "      <td>Jackie Mason: Hollywood Would Love Trump if He...</td>\n",
       "      <td>Daniel Nussbaum</td>\n",
       "      <td>In these trying times, Jackie Mason is the Voi...</td>\n",
       "      <td>0</td>\n",
       "    </tr>\n",
       "  </tbody>\n",
       "</table>\n",
       "</div>"
      ],
      "text/plain": [
       "   id                                              title              author  \\\n",
       "0   0  House Dem Aide: We Didn’t Even See Comey’s Let...       Darrell Lucus   \n",
       "1   1  FLYNN: Hillary Clinton, Big Woman on Campus - ...     Daniel J. Flynn   \n",
       "2   2                  Why the Truth Might Get You Fired  Consortiumnews.com   \n",
       "3   3  15 Civilians Killed In Single US Airstrike Hav...     Jessica Purkiss   \n",
       "4   4  Iranian woman jailed for fictional unpublished...      Howard Portnoy   \n",
       "5   5  Jackie Mason: Hollywood Would Love Trump if He...     Daniel Nussbaum   \n",
       "\n",
       "                                                text  label  \n",
       "0  House Dem Aide: We Didn’t Even See Comey’s Let...      1  \n",
       "1  Ever get the feeling your life circles the rou...      0  \n",
       "2  Why the Truth Might Get You Fired October 29, ...      1  \n",
       "3  Videos 15 Civilians Killed In Single US Airstr...      1  \n",
       "4  Print \\nAn Iranian woman has been sentenced to...      1  \n",
       "5  In these trying times, Jackie Mason is the Voi...      0  "
      ]
     },
     "execution_count": 3,
     "metadata": {},
     "output_type": "execute_result"
    }
   ],
   "source": [
    "df.head(6)"
   ]
  },
  {
   "cell_type": "code",
   "execution_count": 4,
   "metadata": {},
   "outputs": [],
   "source": [
    "X=df.drop('label',axis=1)"
   ]
  },
  {
   "cell_type": "code",
   "execution_count": 5,
   "metadata": {},
   "outputs": [
    {
     "data": {
      "text/html": [
       "<div>\n",
       "<style scoped>\n",
       "    .dataframe tbody tr th:only-of-type {\n",
       "        vertical-align: middle;\n",
       "    }\n",
       "\n",
       "    .dataframe tbody tr th {\n",
       "        vertical-align: top;\n",
       "    }\n",
       "\n",
       "    .dataframe thead th {\n",
       "        text-align: right;\n",
       "    }\n",
       "</style>\n",
       "<table border=\"1\" class=\"dataframe\">\n",
       "  <thead>\n",
       "    <tr style=\"text-align: right;\">\n",
       "      <th></th>\n",
       "      <th>id</th>\n",
       "      <th>title</th>\n",
       "      <th>author</th>\n",
       "      <th>text</th>\n",
       "    </tr>\n",
       "  </thead>\n",
       "  <tbody>\n",
       "    <tr>\n",
       "      <th>0</th>\n",
       "      <td>0</td>\n",
       "      <td>House Dem Aide: We Didn’t Even See Comey’s Let...</td>\n",
       "      <td>Darrell Lucus</td>\n",
       "      <td>House Dem Aide: We Didn’t Even See Comey’s Let...</td>\n",
       "    </tr>\n",
       "    <tr>\n",
       "      <th>1</th>\n",
       "      <td>1</td>\n",
       "      <td>FLYNN: Hillary Clinton, Big Woman on Campus - ...</td>\n",
       "      <td>Daniel J. Flynn</td>\n",
       "      <td>Ever get the feeling your life circles the rou...</td>\n",
       "    </tr>\n",
       "    <tr>\n",
       "      <th>2</th>\n",
       "      <td>2</td>\n",
       "      <td>Why the Truth Might Get You Fired</td>\n",
       "      <td>Consortiumnews.com</td>\n",
       "      <td>Why the Truth Might Get You Fired October 29, ...</td>\n",
       "    </tr>\n",
       "    <tr>\n",
       "      <th>3</th>\n",
       "      <td>3</td>\n",
       "      <td>15 Civilians Killed In Single US Airstrike Hav...</td>\n",
       "      <td>Jessica Purkiss</td>\n",
       "      <td>Videos 15 Civilians Killed In Single US Airstr...</td>\n",
       "    </tr>\n",
       "    <tr>\n",
       "      <th>4</th>\n",
       "      <td>4</td>\n",
       "      <td>Iranian woman jailed for fictional unpublished...</td>\n",
       "      <td>Howard Portnoy</td>\n",
       "      <td>Print \\nAn Iranian woman has been sentenced to...</td>\n",
       "    </tr>\n",
       "    <tr>\n",
       "      <th>5</th>\n",
       "      <td>5</td>\n",
       "      <td>Jackie Mason: Hollywood Would Love Trump if He...</td>\n",
       "      <td>Daniel Nussbaum</td>\n",
       "      <td>In these trying times, Jackie Mason is the Voi...</td>\n",
       "    </tr>\n",
       "    <tr>\n",
       "      <th>6</th>\n",
       "      <td>6</td>\n",
       "      <td>Life: Life Of Luxury: Elton John’s 6 Favorite ...</td>\n",
       "      <td>NaN</td>\n",
       "      <td>Ever wonder how Britain’s most iconic pop pian...</td>\n",
       "    </tr>\n",
       "  </tbody>\n",
       "</table>\n",
       "</div>"
      ],
      "text/plain": [
       "   id                                              title              author  \\\n",
       "0   0  House Dem Aide: We Didn’t Even See Comey’s Let...       Darrell Lucus   \n",
       "1   1  FLYNN: Hillary Clinton, Big Woman on Campus - ...     Daniel J. Flynn   \n",
       "2   2                  Why the Truth Might Get You Fired  Consortiumnews.com   \n",
       "3   3  15 Civilians Killed In Single US Airstrike Hav...     Jessica Purkiss   \n",
       "4   4  Iranian woman jailed for fictional unpublished...      Howard Portnoy   \n",
       "5   5  Jackie Mason: Hollywood Would Love Trump if He...     Daniel Nussbaum   \n",
       "6   6  Life: Life Of Luxury: Elton John’s 6 Favorite ...                 NaN   \n",
       "\n",
       "                                                text  \n",
       "0  House Dem Aide: We Didn’t Even See Comey’s Let...  \n",
       "1  Ever get the feeling your life circles the rou...  \n",
       "2  Why the Truth Might Get You Fired October 29, ...  \n",
       "3  Videos 15 Civilians Killed In Single US Airstr...  \n",
       "4  Print \\nAn Iranian woman has been sentenced to...  \n",
       "5  In these trying times, Jackie Mason is the Voi...  \n",
       "6  Ever wonder how Britain’s most iconic pop pian...  "
      ]
     },
     "execution_count": 5,
     "metadata": {},
     "output_type": "execute_result"
    }
   ],
   "source": [
    "X.head(7)"
   ]
  },
  {
   "cell_type": "code",
   "execution_count": 6,
   "metadata": {},
   "outputs": [],
   "source": [
    "y=df['label']"
   ]
  },
  {
   "cell_type": "code",
   "execution_count": 7,
   "metadata": {},
   "outputs": [
    {
     "data": {
      "text/plain": [
       "0    1\n",
       "1    0\n",
       "2    1\n",
       "3    1\n",
       "4    1\n",
       "Name: label, dtype: int64"
      ]
     },
     "execution_count": 7,
     "metadata": {},
     "output_type": "execute_result"
    }
   ],
   "source": [
    "y.head()"
   ]
  },
  {
   "cell_type": "code",
   "execution_count": 8,
   "metadata": {},
   "outputs": [
    {
     "data": {
      "text/plain": [
       "(20800, 5)"
      ]
     },
     "execution_count": 8,
     "metadata": {},
     "output_type": "execute_result"
    }
   ],
   "source": [
    "df.shape"
   ]
  },
  {
   "cell_type": "code",
   "execution_count": 9,
   "metadata": {},
   "outputs": [],
   "source": [
    "from sklearn.feature_extraction.text import CountVectorizer, TfidfVectorizer, HashingVectorizer\n"
   ]
  },
  {
   "cell_type": "code",
   "execution_count": 10,
   "metadata": {},
   "outputs": [],
   "source": [
    "df=df.dropna()"
   ]
  },
  {
   "cell_type": "code",
   "execution_count": 11,
   "metadata": {},
   "outputs": [],
   "source": [
    "messages=df.copy()"
   ]
  },
  {
   "cell_type": "code",
   "execution_count": 12,
   "metadata": {},
   "outputs": [
    {
     "data": {
      "text/html": [
       "<div>\n",
       "<style scoped>\n",
       "    .dataframe tbody tr th:only-of-type {\n",
       "        vertical-align: middle;\n",
       "    }\n",
       "\n",
       "    .dataframe tbody tr th {\n",
       "        vertical-align: top;\n",
       "    }\n",
       "\n",
       "    .dataframe thead th {\n",
       "        text-align: right;\n",
       "    }\n",
       "</style>\n",
       "<table border=\"1\" class=\"dataframe\">\n",
       "  <thead>\n",
       "    <tr style=\"text-align: right;\">\n",
       "      <th></th>\n",
       "      <th>id</th>\n",
       "      <th>title</th>\n",
       "      <th>author</th>\n",
       "      <th>text</th>\n",
       "      <th>label</th>\n",
       "    </tr>\n",
       "  </thead>\n",
       "  <tbody>\n",
       "    <tr>\n",
       "      <th>0</th>\n",
       "      <td>0</td>\n",
       "      <td>House Dem Aide: We Didn’t Even See Comey’s Let...</td>\n",
       "      <td>Darrell Lucus</td>\n",
       "      <td>House Dem Aide: We Didn’t Even See Comey’s Let...</td>\n",
       "      <td>1</td>\n",
       "    </tr>\n",
       "    <tr>\n",
       "      <th>1</th>\n",
       "      <td>1</td>\n",
       "      <td>FLYNN: Hillary Clinton, Big Woman on Campus - ...</td>\n",
       "      <td>Daniel J. Flynn</td>\n",
       "      <td>Ever get the feeling your life circles the rou...</td>\n",
       "      <td>0</td>\n",
       "    </tr>\n",
       "    <tr>\n",
       "      <th>2</th>\n",
       "      <td>2</td>\n",
       "      <td>Why the Truth Might Get You Fired</td>\n",
       "      <td>Consortiumnews.com</td>\n",
       "      <td>Why the Truth Might Get You Fired October 29, ...</td>\n",
       "      <td>1</td>\n",
       "    </tr>\n",
       "    <tr>\n",
       "      <th>3</th>\n",
       "      <td>3</td>\n",
       "      <td>15 Civilians Killed In Single US Airstrike Hav...</td>\n",
       "      <td>Jessica Purkiss</td>\n",
       "      <td>Videos 15 Civilians Killed In Single US Airstr...</td>\n",
       "      <td>1</td>\n",
       "    </tr>\n",
       "    <tr>\n",
       "      <th>4</th>\n",
       "      <td>4</td>\n",
       "      <td>Iranian woman jailed for fictional unpublished...</td>\n",
       "      <td>Howard Portnoy</td>\n",
       "      <td>Print \\nAn Iranian woman has been sentenced to...</td>\n",
       "      <td>1</td>\n",
       "    </tr>\n",
       "    <tr>\n",
       "      <th>5</th>\n",
       "      <td>5</td>\n",
       "      <td>Jackie Mason: Hollywood Would Love Trump if He...</td>\n",
       "      <td>Daniel Nussbaum</td>\n",
       "      <td>In these trying times, Jackie Mason is the Voi...</td>\n",
       "      <td>0</td>\n",
       "    </tr>\n",
       "    <tr>\n",
       "      <th>7</th>\n",
       "      <td>7</td>\n",
       "      <td>Benoît Hamon Wins French Socialist Party’s Pre...</td>\n",
       "      <td>Alissa J. Rubin</td>\n",
       "      <td>PARIS  —   France chose an idealistic, traditi...</td>\n",
       "      <td>0</td>\n",
       "    </tr>\n",
       "    <tr>\n",
       "      <th>9</th>\n",
       "      <td>9</td>\n",
       "      <td>A Back-Channel Plan for Ukraine and Russia, Co...</td>\n",
       "      <td>Megan Twohey and Scott Shane</td>\n",
       "      <td>A week before Michael T. Flynn resigned as nat...</td>\n",
       "      <td>0</td>\n",
       "    </tr>\n",
       "    <tr>\n",
       "      <th>10</th>\n",
       "      <td>10</td>\n",
       "      <td>Obama’s Organizing for Action Partners with So...</td>\n",
       "      <td>Aaron Klein</td>\n",
       "      <td>Organizing for Action, the activist group that...</td>\n",
       "      <td>0</td>\n",
       "    </tr>\n",
       "    <tr>\n",
       "      <th>11</th>\n",
       "      <td>11</td>\n",
       "      <td>BBC Comedy Sketch \"Real Housewives of ISIS\" Ca...</td>\n",
       "      <td>Chris Tomlinson</td>\n",
       "      <td>The BBC produced spoof on the “Real Housewives...</td>\n",
       "      <td>0</td>\n",
       "    </tr>\n",
       "  </tbody>\n",
       "</table>\n",
       "</div>"
      ],
      "text/plain": [
       "    id                                              title  \\\n",
       "0    0  House Dem Aide: We Didn’t Even See Comey’s Let...   \n",
       "1    1  FLYNN: Hillary Clinton, Big Woman on Campus - ...   \n",
       "2    2                  Why the Truth Might Get You Fired   \n",
       "3    3  15 Civilians Killed In Single US Airstrike Hav...   \n",
       "4    4  Iranian woman jailed for fictional unpublished...   \n",
       "5    5  Jackie Mason: Hollywood Would Love Trump if He...   \n",
       "7    7  Benoît Hamon Wins French Socialist Party’s Pre...   \n",
       "9    9  A Back-Channel Plan for Ukraine and Russia, Co...   \n",
       "10  10  Obama’s Organizing for Action Partners with So...   \n",
       "11  11  BBC Comedy Sketch \"Real Housewives of ISIS\" Ca...   \n",
       "\n",
       "                          author  \\\n",
       "0                  Darrell Lucus   \n",
       "1                Daniel J. Flynn   \n",
       "2             Consortiumnews.com   \n",
       "3                Jessica Purkiss   \n",
       "4                 Howard Portnoy   \n",
       "5                Daniel Nussbaum   \n",
       "7                Alissa J. Rubin   \n",
       "9   Megan Twohey and Scott Shane   \n",
       "10                   Aaron Klein   \n",
       "11               Chris Tomlinson   \n",
       "\n",
       "                                                 text  label  \n",
       "0   House Dem Aide: We Didn’t Even See Comey’s Let...      1  \n",
       "1   Ever get the feeling your life circles the rou...      0  \n",
       "2   Why the Truth Might Get You Fired October 29, ...      1  \n",
       "3   Videos 15 Civilians Killed In Single US Airstr...      1  \n",
       "4   Print \\nAn Iranian woman has been sentenced to...      1  \n",
       "5   In these trying times, Jackie Mason is the Voi...      0  \n",
       "7   PARIS  —   France chose an idealistic, traditi...      0  \n",
       "9   A week before Michael T. Flynn resigned as nat...      0  \n",
       "10  Organizing for Action, the activist group that...      0  \n",
       "11  The BBC produced spoof on the “Real Housewives...      0  "
      ]
     },
     "execution_count": 12,
     "metadata": {},
     "output_type": "execute_result"
    }
   ],
   "source": [
    "messages.head(10)"
   ]
  },
  {
   "cell_type": "code",
   "execution_count": 13,
   "metadata": {},
   "outputs": [],
   "source": [
    "messages.reset_index(inplace=True)"
   ]
  },
  {
   "cell_type": "code",
   "execution_count": 14,
   "metadata": {
    "scrolled": true
   },
   "outputs": [
    {
     "data": {
      "text/plain": [
       "'PARIS  —   France chose an idealistic, traditional   candidate in Sunday’s primary to represent the Socialist and   parties in the presidential election this spring. The candidate, Benoît Hamon, 49, who ran on the slogan that he would “make France’s heart beat,” bested Manuel Valls, the former prime minister, whose campaign has promoted more   policies and who has a strong    background. Mr. Hamon appeared to have won by a wide margin, with incomplete returns showing him with an estimated 58 percent of the vote to Mr. Valls’s 41 percent. “Tonight the left holds its head up high again it is looking to the future,” Mr. Hamon said, addressing his supporters. “Our country needs the left, but a modern, innovative left,” he said. Mr. Hamon’s victory was the clearest sign yet that voters on the left want a break with the policies of President François Hollande, who in December announced that he would not seek  . However, Mr. Hamon’s strong showing is unlikely to change widespread assessments that   candidates have little chance of making it into the second round of voting in the general election. The first round of the general election is set for April 23 and the runoff for May 7. The Socialist Party is deeply divided, and one measure of its lack of popular enthusiasm was the relatively low number of people voting. About two million people voted in the second round of the primary on Sunday, in contrast with about 2. 9 million in the second round of the last presidential primary on the left, in 2011. However, much of the conventional wisdom over how the elections will go has been thrown into question over the past week, because the leading candidate, François Fillon, who represents the main   party, the Republicans, was accused of paying his wife large sums of money to work as his parliamentary aide. While nepotism is legal in the French political system, it is not clear that she actually did any work. Prosecutors who specialize in financial malfeasance are reviewing the case. France’s electoral system allows multiple candidates to run for president in the first round of voting, but only the top two   go on to a second round. Mr. Hamon is entering a race that is already crowded on the left, with candidates who include   Mélenchon on the far left, and Emmanuel Macron, an independent who served as economy minister in Mr. Hollande’s government and who embraces more   policies. Unless he decides to withdraw, Mr. Fillon, the mainstream right candidate, will also run, as will the extreme right candidate Marine Le Pen. The two have been expected to go to the runoff. Mr. Hamon’s victory can be attributed at least in part to his image as an idealist and traditional leftist candidate who appeals to union voters as well as more environmentally concerned and socially liberal young people. Unlike Mr. Valls, he also clearly distanced himself from some of Mr. Hollande’s more unpopular policies, especially the economic ones. Thomas Kekenbosch, 22, a student and one of the leaders of the group the Youth With Benoît Hamon, said Mr. Hamon embodied a new hope for those on the left. “We have a perspective we have something to do, to build,” Mr. Kekenbosch said. Mr. Hollande had disappointed many young people because under him the party abandoned ideals, such as support for workers, that many   voters believe in, according to Mr. Kekenbosch. Mr. Hollande’s government, under pressure from the European Union to meet budget restraints, struggled to pass labor code reforms to make the market more attractive to foreign investors and also to encourage French businesses to expand in France. The measures ultimately passed after weeks of strikes, but they were watered down and generated little concrete progress in improving France’s roughly 10 percent unemployment rate and its nearly 25 percent youth joblessness rate. Mr. Hamon strongly endorses a stimulus approach to improving the economy and has promised to phase in a universal income, which would especially help young people looking for work, but would also supplement the livelihood of   French workers. The end goal would be to have everyone receive 750 euros per month (about $840). “We have someone that trusts us,” Mr. Kekenbosch said, “who says: ‘I give you enough to pay for your studies. You can have a scholarship which spares you from working at McDonald’s on provisional contracts for 4 years. ” Mr. Hamon advocates phasing out diesel fuel and encouraging drivers to replace vehicles that use petroleum products with electrical ones. His leftist pedigree began early. His father worked at an arsenal in Brest, a city in the far west of Brittany, and his mother worked off and on as a secretary. He was an early member of the Movement of Young Socialists, and he has continued to work closely with them through his political life. He also worked for Martine Aubry, now the mayor of Lille and a former Socialist Party leader.'"
      ]
     },
     "execution_count": 14,
     "metadata": {},
     "output_type": "execute_result"
    }
   ],
   "source": [
    "messages['text'][6]"
   ]
  },
  {
   "cell_type": "code",
   "execution_count": 15,
   "metadata": {},
   "outputs": [
    {
     "data": {
      "text/plain": [
       "'Benoît Hamon Wins French Socialist Party’s Presidential Nomination - The New York Times'"
      ]
     },
     "execution_count": 15,
     "metadata": {},
     "output_type": "execute_result"
    }
   ],
   "source": [
    "messages['title'][6]"
   ]
  },
  {
   "cell_type": "code",
   "execution_count": 16,
   "metadata": {},
   "outputs": [],
   "source": [
    "from nltk.corpus import stopwords\n",
    "from nltk.stem.porter import PorterStemmer\n",
    "import re\n",
    "ps = PorterStemmer()\n",
    "corpus = []\n",
    "for i in range(0, len(messages)):\n",
    "    review = re.sub('[^a-zA-Z]', ' ', messages['text'][i])\n",
    "    review = review.lower()\n",
    "    review = review.split()\n",
    "    \n",
    "    review = [ps.stem(word) for word in review if not word in stopwords.words('english')]\n",
    "    review = ' '.join(review)\n",
    "    corpus.append(review)"
   ]
  },
  {
   "cell_type": "code",
   "execution_count": 17,
   "metadata": {},
   "outputs": [
    {
     "data": {
      "text/plain": [
       "'video civilian kill singl us airstrik identifi rate civilian kill american airstrik afghanistan higher us engag activ combat oper photo hellfir missil load onto us militari reaper drone afghanistan staff sgt brian ferguson u air forc bureau abl identifi civilian kill singl us drone strike afghanistan last month biggest loss civilian life one strike sinc attack medecin san frontier hospit msf last octob us claim conduct counter terror strike islam state fighter hit nangarhar provinc missil septemb next day unit nation issu unusu rapid strong statement say strike kill civilian injur other gather hous celebr tribal elder return pilgrimag mecca bureau spoke man name haji rai said owner hous target said peopl kill other injur provid name list bureau abl independ verifi ident die rai son headmast local school among anoth man abdul hakim lost three son attack rai said involv deni us claim member visit hous strike said even speak sort peopl phone let alon receiv hous death amount biggest confirm loss civilian life singl american strike afghanistan sinc attack msf hospit kunduz last octob kill least peopl nangarhar strike us attack kill civilian septemb bureau data indic mani civilian alli soldier kill four american strike afghanistan somalia month septemb pair strike kill eight afghan policemen tarinkot capit urozgan provic us jet reportedli hit polic checkpoint kill one offic return target first respond use tactic known doubl tap strike controversi often hit civilian rescuer us told bureau conduct strike individu fire pose threat afghan forc email directli address alleg afghan policemen kill end month somalia citizen burnt us flag street north central citi galcayo emerg drone attack may unintent kill somali soldier civilian strike occur day one nangarhar somali afghan incid us first deni non combat kill investig strike nangarhar galcayo rate civilian kill american airstrik afghanistan higher us engag activ combat oper name'"
      ]
     },
     "execution_count": 17,
     "metadata": {},
     "output_type": "execute_result"
    }
   ],
   "source": [
    "corpus[3]"
   ]
  },
  {
   "cell_type": "code",
   "execution_count": 32,
   "metadata": {},
   "outputs": [],
   "source": [
    "\n",
    "## Applying Countvectorizer\n",
    "# Creating the Bag of Words model\n",
    "from sklearn.feature_extraction.text import CountVectorizer\n",
    "cv = CountVectorizer(max_features=5000,ngram_range=(1,3))\n",
    "X = cv.fit_transform(corpus).toarray()"
   ]
  },
  {
   "cell_type": "code",
   "execution_count": 33,
   "metadata": {},
   "outputs": [
    {
     "data": {
      "text/plain": [
       "(18285, 5000)"
      ]
     },
     "execution_count": 33,
     "metadata": {},
     "output_type": "execute_result"
    }
   ],
   "source": [
    " X.shape"
   ]
  },
  {
   "cell_type": "code",
   "execution_count": 34,
   "metadata": {},
   "outputs": [],
   "source": [
    "\n",
    "y=messages['label']"
   ]
  },
  {
   "cell_type": "code",
   "execution_count": 35,
   "metadata": {},
   "outputs": [],
   "source": [
    "## Divide the dataset into Train and Test\n",
    "from sklearn.model_selection import train_test_split\n",
    "X_train, X_test, y_train, y_test = train_test_split(X, y, test_size=0.33, random_state=0)\n"
   ]
  },
  {
   "cell_type": "code",
   "execution_count": 27,
   "metadata": {},
   "outputs": [
    {
     "data": {
      "text/plain": [
       "['aaron',\n",
       " 'abandon',\n",
       " 'abc',\n",
       " 'abe',\n",
       " 'abedin',\n",
       " 'abil',\n",
       " 'abl',\n",
       " 'abort',\n",
       " 'abroad',\n",
       " 'absenc',\n",
       " 'absolut',\n",
       " 'absorb',\n",
       " 'absurd',\n",
       " 'abu',\n",
       " 'abus',\n",
       " 'academ',\n",
       " 'academi',\n",
       " 'acceler',\n",
       " 'accept',\n",
       " 'access']"
      ]
     },
     "execution_count": 27,
     "metadata": {},
     "output_type": "execute_result"
    }
   ],
   "source": [
    "cv.get_feature_names()[:20]"
   ]
  },
  {
   "cell_type": "code",
   "execution_count": 28,
   "metadata": {},
   "outputs": [
    {
     "data": {
      "text/plain": [
       "{'analyzer': 'word',\n",
       " 'binary': False,\n",
       " 'decode_error': 'strict',\n",
       " 'dtype': numpy.int64,\n",
       " 'encoding': 'utf-8',\n",
       " 'input': 'content',\n",
       " 'lowercase': True,\n",
       " 'max_df': 1.0,\n",
       " 'max_features': 5000,\n",
       " 'min_df': 1,\n",
       " 'ngram_range': (1, 3),\n",
       " 'preprocessor': None,\n",
       " 'stop_words': None,\n",
       " 'strip_accents': None,\n",
       " 'token_pattern': '(?u)\\\\b\\\\w\\\\w+\\\\b',\n",
       " 'tokenizer': None,\n",
       " 'vocabulary': None}"
      ]
     },
     "execution_count": 28,
     "metadata": {},
     "output_type": "execute_result"
    }
   ],
   "source": [
    "cv.get_params()"
   ]
  },
  {
   "cell_type": "code",
   "execution_count": 36,
   "metadata": {},
   "outputs": [],
   "source": [
    "count_df = pd.DataFrame(X_train, columns=cv.get_feature_names())"
   ]
  },
  {
   "cell_type": "code",
   "execution_count": 37,
   "metadata": {},
   "outputs": [
    {
     "data": {
      "text/html": [
       "<div>\n",
       "<style scoped>\n",
       "    .dataframe tbody tr th:only-of-type {\n",
       "        vertical-align: middle;\n",
       "    }\n",
       "\n",
       "    .dataframe tbody tr th {\n",
       "        vertical-align: top;\n",
       "    }\n",
       "\n",
       "    .dataframe thead th {\n",
       "        text-align: right;\n",
       "    }\n",
       "</style>\n",
       "<table border=\"1\" class=\"dataframe\">\n",
       "  <thead>\n",
       "    <tr style=\"text-align: right;\">\n",
       "      <th></th>\n",
       "      <th>aaron</th>\n",
       "      <th>abandon</th>\n",
       "      <th>abc</th>\n",
       "      <th>abe</th>\n",
       "      <th>abedin</th>\n",
       "      <th>abil</th>\n",
       "      <th>abl</th>\n",
       "      <th>abort</th>\n",
       "      <th>abroad</th>\n",
       "      <th>absenc</th>\n",
       "      <th>...</th>\n",
       "      <th>young</th>\n",
       "      <th>young peopl</th>\n",
       "      <th>younger</th>\n",
       "      <th>youth</th>\n",
       "      <th>youtub</th>\n",
       "      <th>zero</th>\n",
       "      <th>zika</th>\n",
       "      <th>zionist</th>\n",
       "      <th>zone</th>\n",
       "      <th>zu</th>\n",
       "    </tr>\n",
       "  </thead>\n",
       "  <tbody>\n",
       "    <tr>\n",
       "      <th>0</th>\n",
       "      <td>0</td>\n",
       "      <td>0</td>\n",
       "      <td>0</td>\n",
       "      <td>0</td>\n",
       "      <td>0</td>\n",
       "      <td>0</td>\n",
       "      <td>0</td>\n",
       "      <td>0</td>\n",
       "      <td>0</td>\n",
       "      <td>0</td>\n",
       "      <td>...</td>\n",
       "      <td>3</td>\n",
       "      <td>0</td>\n",
       "      <td>0</td>\n",
       "      <td>0</td>\n",
       "      <td>0</td>\n",
       "      <td>0</td>\n",
       "      <td>0</td>\n",
       "      <td>0</td>\n",
       "      <td>0</td>\n",
       "      <td>0</td>\n",
       "    </tr>\n",
       "    <tr>\n",
       "      <th>1</th>\n",
       "      <td>0</td>\n",
       "      <td>0</td>\n",
       "      <td>0</td>\n",
       "      <td>0</td>\n",
       "      <td>0</td>\n",
       "      <td>0</td>\n",
       "      <td>0</td>\n",
       "      <td>0</td>\n",
       "      <td>0</td>\n",
       "      <td>0</td>\n",
       "      <td>...</td>\n",
       "      <td>0</td>\n",
       "      <td>0</td>\n",
       "      <td>0</td>\n",
       "      <td>0</td>\n",
       "      <td>0</td>\n",
       "      <td>0</td>\n",
       "      <td>0</td>\n",
       "      <td>0</td>\n",
       "      <td>0</td>\n",
       "      <td>0</td>\n",
       "    </tr>\n",
       "    <tr>\n",
       "      <th>2</th>\n",
       "      <td>0</td>\n",
       "      <td>0</td>\n",
       "      <td>0</td>\n",
       "      <td>0</td>\n",
       "      <td>0</td>\n",
       "      <td>0</td>\n",
       "      <td>0</td>\n",
       "      <td>0</td>\n",
       "      <td>0</td>\n",
       "      <td>0</td>\n",
       "      <td>...</td>\n",
       "      <td>0</td>\n",
       "      <td>0</td>\n",
       "      <td>0</td>\n",
       "      <td>0</td>\n",
       "      <td>0</td>\n",
       "      <td>0</td>\n",
       "      <td>0</td>\n",
       "      <td>0</td>\n",
       "      <td>0</td>\n",
       "      <td>0</td>\n",
       "    </tr>\n",
       "    <tr>\n",
       "      <th>3</th>\n",
       "      <td>0</td>\n",
       "      <td>0</td>\n",
       "      <td>0</td>\n",
       "      <td>0</td>\n",
       "      <td>0</td>\n",
       "      <td>0</td>\n",
       "      <td>0</td>\n",
       "      <td>0</td>\n",
       "      <td>0</td>\n",
       "      <td>0</td>\n",
       "      <td>...</td>\n",
       "      <td>0</td>\n",
       "      <td>0</td>\n",
       "      <td>0</td>\n",
       "      <td>0</td>\n",
       "      <td>0</td>\n",
       "      <td>0</td>\n",
       "      <td>0</td>\n",
       "      <td>0</td>\n",
       "      <td>0</td>\n",
       "      <td>0</td>\n",
       "    </tr>\n",
       "    <tr>\n",
       "      <th>4</th>\n",
       "      <td>0</td>\n",
       "      <td>0</td>\n",
       "      <td>0</td>\n",
       "      <td>0</td>\n",
       "      <td>0</td>\n",
       "      <td>0</td>\n",
       "      <td>0</td>\n",
       "      <td>0</td>\n",
       "      <td>0</td>\n",
       "      <td>0</td>\n",
       "      <td>...</td>\n",
       "      <td>0</td>\n",
       "      <td>0</td>\n",
       "      <td>0</td>\n",
       "      <td>0</td>\n",
       "      <td>0</td>\n",
       "      <td>0</td>\n",
       "      <td>0</td>\n",
       "      <td>0</td>\n",
       "      <td>0</td>\n",
       "      <td>0</td>\n",
       "    </tr>\n",
       "  </tbody>\n",
       "</table>\n",
       "<p>5 rows × 5000 columns</p>\n",
       "</div>"
      ],
      "text/plain": [
       "   aaron  abandon  abc  abe  abedin  abil  abl  abort  abroad  absenc ...  \\\n",
       "0      0        0    0    0       0     0    0      0       0       0 ...   \n",
       "1      0        0    0    0       0     0    0      0       0       0 ...   \n",
       "2      0        0    0    0       0     0    0      0       0       0 ...   \n",
       "3      0        0    0    0       0     0    0      0       0       0 ...   \n",
       "4      0        0    0    0       0     0    0      0       0       0 ...   \n",
       "\n",
       "   young  young peopl  younger  youth  youtub  zero  zika  zionist  zone  zu  \n",
       "0      3            0        0      0       0     0     0        0     0   0  \n",
       "1      0            0        0      0       0     0     0        0     0   0  \n",
       "2      0            0        0      0       0     0     0        0     0   0  \n",
       "3      0            0        0      0       0     0     0        0     0   0  \n",
       "4      0            0        0      0       0     0     0        0     0   0  \n",
       "\n",
       "[5 rows x 5000 columns]"
      ]
     },
     "execution_count": 37,
     "metadata": {},
     "output_type": "execute_result"
    }
   ],
   "source": [
    "count_df.head()"
   ]
  },
  {
   "cell_type": "code",
   "execution_count": 38,
   "metadata": {},
   "outputs": [],
   "source": [
    "import matplotlib.pyplot as plt"
   ]
  },
  {
   "cell_type": "code",
   "execution_count": 39,
   "metadata": {},
   "outputs": [],
   "source": [
    "def plot_confusion_matrix(cm, classes,\n",
    "                          normalize=False,\n",
    "                          title='Confusion matrix',\n",
    "                          cmap=plt.cm.Blues):\n",
    "    \"\"\"\n",
    "    See full source and example: \n",
    "    http://scikit-learn.org/stable/auto_examples/model_selection/plot_confusion_matrix.html\n",
    "    \n",
    "    This function prints and plots the confusion matrix.\n",
    "    Normalization can be applied by setting `normalize=True`.\n",
    "    \"\"\"\n",
    "    plt.imshow(cm, interpolation='nearest', cmap=cmap)\n",
    "    plt.title(title)\n",
    "    plt.colorbar()\n",
    "    tick_marks = np.arange(len(classes))\n",
    "    plt.xticks(tick_marks, classes, rotation=45)\n",
    "    plt.yticks(tick_marks, classes)\n",
    "\n",
    "    if normalize:\n",
    "        cm = cm.astype('float') / cm.sum(axis=1)[:, np.newaxis]\n",
    "        print(\"Normalized confusion matrix\")\n",
    "    else:\n",
    "        print('Confusion matrix, without normalization')\n",
    "\n",
    "    thresh = cm.max() / 2.\n",
    "    for i, j in itertools.product(range(cm.shape[0]), range(cm.shape[1])):\n",
    "        plt.text(j, i, cm[i, j],\n",
    "                 horizontalalignment=\"center\",\n",
    "                 color=\"white\" if cm[i, j] > thresh else \"black\")\n",
    "\n",
    "    plt.tight_layout()\n",
    "    plt.ylabel('True label')\n",
    "    plt.xlabel('Predicted label')"
   ]
  },
  {
   "cell_type": "markdown",
   "metadata": {},
   "source": [
    "# MultinomialNB Algorithm"
   ]
  },
  {
   "cell_type": "code",
   "execution_count": 40,
   "metadata": {},
   "outputs": [],
   "source": [
    "from sklearn.naive_bayes import MultinomialNB\n",
    "classifier=MultinomialNB()"
   ]
  },
  {
   "cell_type": "code",
   "execution_count": 41,
   "metadata": {},
   "outputs": [],
   "source": [
    "from sklearn import metrics\n",
    "import numpy as np\n",
    "import itertools"
   ]
  },
  {
   "cell_type": "code",
   "execution_count": 42,
   "metadata": {},
   "outputs": [
    {
     "name": "stdout",
     "output_type": "stream",
     "text": [
      "accuracy:   0.898\n",
      "Confusion matrix, without normalization\n"
     ]
    },
    {
     "data": {
      "image/png": "[encoded data removed]",
      "text/plain": [
       "<Figure size 432x288 with 2 Axes>"
      ]
     },
     "metadata": {
      "needs_background": "light"
     },
     "output_type": "display_data"
    }
   ],
   "source": [
    "classifier.fit(X_train, y_train)\n",
    "pred = classifier.predict(X_test)\n",
    "score = metrics.accuracy_score(y_test, pred)\n",
    "print(\"accuracy:   %0.3f\" % score)\n",
    "cm = metrics.confusion_matrix(y_test, pred)\n",
    "plot_confusion_matrix(cm, classes=['FAKE', 'REAL'])"
   ]
  },
  {
   "cell_type": "code",
   "execution_count": 43,
   "metadata": {},
   "outputs": [
    {
     "data": {
      "text/plain": [
       "0.8977630488815245"
      ]
     },
     "execution_count": 43,
     "metadata": {},
     "output_type": "execute_result"
    }
   ],
   "source": [
    "classifier.fit(X_train, y_train)\n",
    "pred = classifier.predict(X_test)\n",
    "score = metrics.accuracy_score(y_test, pred)\n",
    "score"
   ]
  },
  {
   "cell_type": "code",
   "execution_count": 44,
   "metadata": {},
   "outputs": [
    {
     "data": {
      "text/plain": [
       "(12250,)"
      ]
     },
     "execution_count": 44,
     "metadata": {},
     "output_type": "execute_result"
    }
   ],
   "source": [
    "y_train.shape"
   ]
  },
  {
   "cell_type": "markdown",
   "metadata": {},
   "source": [
    "# Passive Classifier Algorithm(Works well with Text Data)"
   ]
  },
  {
   "cell_type": "code",
   "execution_count": 45,
   "metadata": {},
   "outputs": [],
   "source": [
    "from sklearn.linear_model import PassiveAggressiveClassifier\n",
    "linear_clf = PassiveAggressiveClassifier(n_iter=50)"
   ]
  },
  {
   "cell_type": "code",
   "execution_count": 46,
   "metadata": {},
   "outputs": [
    {
     "name": "stderr",
     "output_type": "stream",
     "text": [
      "C:\\Users\\dsouz\\Anaconda3\\lib\\site-packages\\sklearn\\linear_model\\stochastic_gradient.py:152: DeprecationWarning: n_iter parameter is deprecated in 0.19 and will be removed in 0.21. Use max_iter and tol instead.\n",
      "  DeprecationWarning)\n",
      "C:\\Users\\dsouz\\Anaconda3\\lib\\site-packages\\sklearn\\linear_model\\stochastic_gradient.py:152: DeprecationWarning: n_iter parameter is deprecated in 0.19 and will be removed in 0.21. Use max_iter and tol instead.\n",
      "  DeprecationWarning)\n"
     ]
    },
    {
     "name": "stdout",
     "output_type": "stream",
     "text": [
      "accuracy:   0.936\n",
      "Confusion matrix, without normalization\n"
     ]
    },
    {
     "data": {
      "image/png": "[encoded data removed]",
      "text/plain": [
       "<Figure size 432x288 with 2 Axes>"
      ]
     },
     "metadata": {
      "needs_background": "light"
     },
     "output_type": "display_data"
    }
   ],
   "source": [
    "linear_clf.fit(X_train, y_train)\n",
    "pred = linear_clf.predict(X_test)\n",
    "score = metrics.accuracy_score(y_test, pred)\n",
    "print(\"accuracy:   %0.3f\" % score)\n",
    "cm = metrics.confusion_matrix(y_test, pred)\n",
    "plot_confusion_matrix(cm, classes=['FAKE Data', 'REAL Data'])"
   ]
  },
  {
   "cell_type": "markdown",
   "metadata": {},
   "source": [
    "# Multinomial Classifier with Hyperparameter"
   ]
  },
  {
   "cell_type": "code",
   "execution_count": 47,
   "metadata": {},
   "outputs": [],
   "source": [
    "##Changing Alpha over here\n"
   ]
  },
  {
   "cell_type": "code",
   "execution_count": 48,
   "metadata": {},
   "outputs": [],
   "source": [
    "classifier=MultinomialNB(alpha=0.1)"
   ]
  },
  {
   "cell_type": "code",
   "execution_count": 49,
   "metadata": {},
   "outputs": [
    {
     "name": "stderr",
     "output_type": "stream",
     "text": [
      "C:\\Users\\dsouz\\Anaconda3\\lib\\site-packages\\sklearn\\naive_bayes.py:480: UserWarning: alpha too small will result in numeric errors, setting alpha = 1.0e-10\n",
      "  'setting alpha = %.1e' % _ALPHA_MIN)\n"
     ]
    },
    {
     "name": "stdout",
     "output_type": "stream",
     "text": [
      "Alpha: 0.0, Score : 0.8990886495443248\n",
      "Alpha: 0.1, Score : 0.8984258492129246\n",
      "Alpha: 0.2, Score : 0.8980944490472246\n",
      "Alpha: 0.30000000000000004, Score : 0.8980944490472246\n",
      "Alpha: 0.4, Score : 0.8982601491300746\n",
      "Alpha: 0.5, Score : 0.8982601491300746\n",
      "Alpha: 0.6000000000000001, Score : 0.8980944490472246\n",
      "Alpha: 0.7000000000000001, Score : 0.8980944490472246\n",
      "Alpha: 0.8, Score : 0.8979287489643745\n",
      "Alpha: 0.9, Score : 0.8977630488815245\n"
     ]
    }
   ],
   "source": [
    "previous_score=0\n",
    "for alpha in np.arange(0,1,0.1):\n",
    "    sub_classifier=MultinomialNB(alpha=alpha)\n",
    "    sub_classifier.fit(X_train,y_train)\n",
    "    y_pred=sub_classifier.predict(X_test)\n",
    "    score = metrics.accuracy_score(y_test, y_pred)\n",
    "    if score>previous_score:\n",
    "        classifier=sub_classifier\n",
    "    print(\"Alpha: {}, Score : {}\".format(alpha,score))"
   ]
  },
  {
   "cell_type": "code",
   "execution_count": 50,
   "metadata": {},
   "outputs": [],
   "source": [
    "## Get Features names\n",
    "feature_names = cv.get_feature_names()"
   ]
  },
  {
   "cell_type": "code",
   "execution_count": 51,
   "metadata": {},
   "outputs": [
    {
     "data": {
      "text/plain": [
       "array([-10.64736682,  -9.14151929,  -9.27080072, ...,  -9.00037421,\n",
       "        -8.2432783 ,  -9.36731922])"
      ]
     },
     "execution_count": 51,
     "metadata": {},
     "output_type": "execute_result"
    }
   ],
   "source": [
    "classifier.coef_[0]"
   ]
  },
  {
   "cell_type": "code",
   "execution_count": 52,
   "metadata": {},
   "outputs": [
    {
     "data": {
      "text/plain": [
       "[(-5.07303253773893, 'trump'),\n",
       " (-5.105085437987942, 'clinton'),\n",
       " (-5.251784261236111, 'peopl'),\n",
       " (-5.262171914498623, 'one'),\n",
       " (-5.320431007386073, 'state'),\n",
       " (-5.396167328676395, 'us'),\n",
       " (-5.4061261362665025, 'would'),\n",
       " (-5.518843883055082, 'like'),\n",
       " (-5.529973356366376, 'hillari'),\n",
       " (-5.554147807629837, 'time'),\n",
       " (-5.632957338144276, 'elect'),\n",
       " (-5.643298220146336, 'year'),\n",
       " (-5.697315338301843, 'said'),\n",
       " (-5.707695100317027, 'american'),\n",
       " (-5.770432150798351, 'new'),\n",
       " (-5.812260715607884, 'use'),\n",
       " (-5.818433686788502, 'also'),\n",
       " (-5.822448363981332, 'presid'),\n",
       " (-5.845944468368517, 'world'),\n",
       " (-5.8506354365533255, 'go')]"
      ]
     },
     "execution_count": 52,
     "metadata": {},
     "output_type": "execute_result"
    }
   ],
   "source": [
    "### Most real\n",
    "sorted(zip(classifier.coef_[0], feature_names), reverse=True)[:20]"
   ]
  },
  {
   "cell_type": "code",
   "execution_count": 54,
   "metadata": {},
   "outputs": [
    {
     "data": {
      "text/plain": [
       "[(-14.534641657940355, 'brief post'),\n",
       " (-14.534641657940355, 'follow pam'),\n",
       " (-14.534641657940355, 'follow pam key'),\n",
       " (-14.534641657940355, 'gold medal'),\n",
       " (-14.534641657940355, 'gorsuch'),\n",
       " (-14.534641657940355, 'judg gorsuch'),\n",
       " (-14.534641657940355, 'key twitter'),\n",
       " (-14.534641657940355, 'key twitter pamkeynen'),\n",
       " (-14.534641657940355, 'morn brief'),\n",
       " (-14.534641657940355, 'mr ail'),\n",
       " (-14.534641657940355, 'mr bannon'),\n",
       " (-14.534641657940355, 'mr castro'),\n",
       " (-14.534641657940355, 'mr christi'),\n",
       " (-14.534641657940355, 'mr cruz'),\n",
       " (-14.534641657940355, 'mr de'),\n",
       " (-14.534641657940355, 'mr flynn'),\n",
       " (-14.534641657940355, 'mr kushner'),\n",
       " (-14.534641657940355, 'mr roof'),\n",
       " (-14.534641657940355, 'mr sander'),\n",
       " (-14.534641657940355, 'mr scott'),\n",
       " (-14.534641657940355, 'mr session'),\n",
       " (-14.534641657940355, 'mr spicer'),\n",
       " (-14.534641657940355, 'mr xi'),\n",
       " (-14.534641657940355, 'ms trump'),\n",
       " (-14.534641657940355, 'pam key'),\n",
       " (-14.534641657940355, 'pam key twitter'),\n",
       " (-14.534641657940355, 'pamkeynen'),\n",
       " (-14.534641657940355, 'pruitt'),\n",
       " (-14.534641657940355, 'support mr trump'),\n",
       " (-14.534641657940355, 'tillerson'),\n",
       " (-14.534641657940355, 'twitter pamkeynen'),\n",
       " (-13.787427256110133, 'devo'),\n",
       " (-13.787427256110133, 'matti'),\n",
       " (-13.787427256110133, 'month mr'),\n",
       " (-13.787427256110133, 'mr assad'),\n",
       " (-13.787427256110133, 'mr kerri'),\n",
       " (-13.787427256110133, 'mr netanyahu'),\n",
       " (-13.787427256110133, 'mr penc'),\n",
       " (-13.787427256110133, 'nune'),\n",
       " (-13.787427256110133, 'said mr trump'),\n",
       " (-13.787427256110133, 'said ms'),\n",
       " (-13.787427256110133, 'sean spicer'),\n",
       " (-13.787427256110133, 'spicer'),\n",
       " (-13.787427256110133, 'weekday eastern'),\n",
       " (-13.3645704052901, 'critic mr'),\n",
       " (-13.3645704052901, 'day mr'),\n",
       " (-13.3645704052901, 'haley'),\n",
       " (-13.3645704052901, 'interview mr'),\n",
       " (-13.3645704052901, 'meet mr'),\n",
       " (-13.3645704052901, 'mr ryan'),\n",
       " (-13.3645704052901, 'mr trump campaign'),\n",
       " (-13.3645704052901, 'phelp'),\n",
       " (-13.068304589146928, 'appeal court'),\n",
       " (-13.068304589146928, 'mr obama said'),\n",
       " (-12.840045937165947, 'broadway'),\n",
       " (-12.840045937165947, 'even mr'),\n",
       " (-12.840045937165947, 'freedom caucu'),\n",
       " (-12.840045937165947, 'marlow'),\n",
       " (-12.840045937165947, 'presid mr'),\n",
       " (-12.840045937165947, 'weekday'),\n",
       " (-12.840045937165947, 'year mr'),\n",
       " (-12.654328791370855, 'breitbart news daili'),\n",
       " (-12.654328791370855, 'espn'),\n",
       " (-12.654328791370855, 'jare kushner'),\n",
       " (-12.654328791370855, 'kushner'),\n",
       " (-12.654328791370855, 'like mr'),\n",
       " (-12.654328791370855, 'mr trump said'),\n",
       " (-12.654328791370855, 'one mr'),\n",
       " (-12.654328791370855, 'playoff'),\n",
       " (-12.654328791370855, 'said still'),\n",
       " (-12.654328791370855, 'show mr'),\n",
       " (-12.654328791370855, 'state mr'),\n",
       " (-12.654328791370855, 'support mr'),\n",
       " (-12.654328791370855, 'volkswagen'),\n",
       " (-12.497759730679315, 'basketbal'),\n",
       " (-12.497759730679315, 'campaign mr'),\n",
       " (-12.497759730679315, 'mr trump mr'),\n",
       " (-12.497759730679315, 'report breitbart'),\n",
       " (-12.497759730679315, 'twitter post'),\n",
       " (-12.497759730679315, 'whether mr'),\n",
       " (-12.362418382809553, 'bronx'),\n",
       " (-12.362418382809553, 'compani said'),\n",
       " (-12.362418382809553, 'detaine'),\n",
       " (-12.362418382809553, 'filibust'),\n",
       " (-12.362418382809553, 'mr erdogan'),\n",
       " (-12.362418382809553, 'said dr'),\n",
       " (-12.362418382809553, 'said news'),\n",
       " (-12.362418382809553, 'th street'),\n",
       " (-12.243229865544434, 'ask mr'),\n",
       " (-12.243229865544434, 'elect mr'),\n",
       " (-12.243229865544434, 'major leader'),\n",
       " (-12.243229865544434, 'news daili'),\n",
       " (-12.243229865544434, 'siriusxm'),\n",
       " (-12.243229865544434, 'stephen bannon'),\n",
       " (-12.243229865544434, 'time mr'),\n",
       " (-12.243229865544434, 'week mr'),\n",
       " (-12.243229865544434, 'work mr'),\n",
       " (-12.136746385141985, 'american offici'),\n",
       " (-12.136746385141985, 'call mr'),\n",
       " (-12.136746385141985, 'dope'),\n",
       " (-12.136746385141985, 'fisher'),\n",
       " (-12.136746385141985, 'told breitbart'),\n",
       " (-12.04051835304743, 'breitbart texa'),\n",
       " (-12.04051835304743, 'condit anonym'),\n",
       " (-12.04051835304743, 'cuomo'),\n",
       " (-12.04051835304743, 'overhaul'),\n",
       " (-11.952742742165045, 'breitbart com'),\n",
       " (-11.952742742165045, 'intellig committe'),\n",
       " (-11.952742742165045, 'monday night'),\n",
       " (-11.952742742165045, 'question mr'),\n",
       " (-11.952742742165045, 'said hope'),\n",
       " (-11.952742742165045, 'said thursday'),\n",
       " (-11.952742742165045, 'sidewalk'),\n",
       " (-11.952742742165045, 'tenni'),\n",
       " (-11.872053830914902, 'blasio'),\n",
       " (-11.872053830914902, 'border wall'),\n",
       " (-11.872053830914902, 'de blasio'),\n",
       " (-11.872053830914902, 'hbo'),\n",
       " (-11.872053830914902, 'mr bush'),\n",
       " (-11.872053830914902, 'quarterback'),\n",
       " (-11.872053830914902, 'said email'),\n",
       " (-11.872053830914902, 'said even'),\n",
       " (-11.872053830914902, 'tournament'),\n",
       " (-11.872053830914902, 'trump mr'),\n",
       " (-11.872053830914902, 'wrote twitter'),\n",
       " (-11.797392302145882, 'bradi'),\n",
       " (-11.797392302145882, 'nation secur council'),\n",
       " (-11.797392302145882, 'opera'),\n",
       " (-11.797392302145882, 'pam'),\n",
       " (-11.797392302145882, 'priebu'),\n",
       " (-11.797392302145882, 'said presid'),\n",
       " (-11.797392302145882, 'said refer'),\n",
       " (-11.797392302145882, 'say mr'),\n",
       " (-11.727919929331115, 'hous offici'),\n",
       " (-11.727919929331115, 'hous press'),\n",
       " (-11.727919929331115, 'jeff session'),\n",
       " (-11.727919929331115, 'nytim com'),\n",
       " (-11.727919929331115, 'trump inaugur'),\n",
       " (-11.727919929331115, 'white hous offici'),\n",
       " (-11.727919929331115, 'white hous press'),\n",
       " (-11.727919929331115, 'year said'),\n",
       " (-11.662962033056342, 'calif'),\n",
       " (-11.662962033056342, 'cardin'),\n",
       " (-11.662962033056342, 'declin comment'),\n",
       " (-11.662962033056342, 'mcconnel'),\n",
       " (-11.662962033056342, 'metropolitan'),\n",
       " (-11.662962033056342, 'nytim'),\n",
       " (-11.662962033056342, 'repeal replac'),\n",
       " (-11.662962033056342, 'super bowl'),\n",
       " (-11.662962033056342, 'taiwan'),\n",
       " (-11.6019675203535, 'abe'),\n",
       " (-11.6019675203535, 'airbnb'),\n",
       " (-11.6019675203535, 'baker'),\n",
       " (-11.6019675203535, 'beyonc'),\n",
       " (-11.6019675203535, 'cellphon'),\n",
       " (-11.6019675203535, 'chef'),\n",
       " (-11.6019675203535, 'fla'),\n",
       " (-11.6019675203535, 'griffin'),\n",
       " (-11.6019675203535, 'last summer'),\n",
       " (-11.6019675203535, 'linger'),\n",
       " (-11.6019675203535, 'said monday'),\n",
       " (-11.6019675203535, 'spokesman said'),\n",
       " (-11.6019675203535, 'time said'),\n",
       " (-11.6019675203535, 'trump tower'),\n",
       " (-11.6019675203535, 'well fargo'),\n",
       " (-11.544480429435819, 'ahmad'),\n",
       " (-11.544480429435819, 'comedi'),\n",
       " (-11.544480429435819, 'new year'),\n",
       " (-11.544480429435819, 'said believ'),\n",
       " (-11.490119220216933, 'broadli'),\n",
       " (-11.490119220216933, 'fargo'),\n",
       " (-11.490119220216933, 'mr johnson'),\n",
       " (-11.490119220216933, 'recent week'),\n",
       " (-11.490119220216933, 'said said'),\n",
       " (-11.490119220216933, 'subway'),\n",
       " (-11.490119220216933, 'trump transit'),\n",
       " (-11.438561410552081, 'counterterror'),\n",
       " (-11.438561410552081, 'debut'),\n",
       " (-11.438561410552081, 'graham'),\n",
       " (-11.438561410552081, 'maher'),\n",
       " (-11.438561410552081, 'said last'),\n",
       " (-11.438561410552081, 'said mani'),\n",
       " (-11.438561410552081, 'said recent'),\n",
       " (-11.438561410552081, 'soccer'),\n",
       " (-11.438561410552081, 'speaker paul'),\n",
       " (-11.438561410552081, 'speaker paul ryan'),\n",
       " (-11.438561410552081, 'state said'),\n",
       " (-11.438561410552081, 'tax return'),\n",
       " (-11.438561410552081, 'thursday night'),\n",
       " (-11.389531983311763, 'cafe'),\n",
       " (-11.389531983311763, 'istanbul'),\n",
       " (-11.389531983311763, 'pittsburgh'),\n",
       " (-11.389531983311763, 'portrait'),\n",
       " (-11.389531983311763, 'presumpt'),\n",
       " (-11.389531983311763, 'reilli'),\n",
       " (-11.389531983311763, 'said never'),\n",
       " (-11.389531983311763, 'samsung'),\n",
       " (-11.389531983311763, 'trump first'),\n",
       " (-11.389531983311763, 'white voter'),\n",
       " (-11.342794505460073, 'border patrol'),\n",
       " (-11.342794505460073, 'downtown'),\n",
       " (-11.342794505460073, 'franchis'),\n",
       " (-11.342794505460073, 'gunman'),\n",
       " (-11.342794505460073, 'mall'),\n",
       " (-11.342794505460073, 'milo'),\n",
       " (-11.342794505460073, 'new administr'),\n",
       " (-11.342794505460073, 'rio'),\n",
       " (-11.342794505460073, 'said friday'),\n",
       " (-11.342794505460073, 'said time'),\n",
       " (-11.342794505460073, 'vote mr'),\n",
       " (-11.298144231722334, 'expert say'),\n",
       " (-11.298144231722334, 'hawkin'),\n",
       " (-11.298144231722334, 'said mr'),\n",
       " (-11.298144231722334, 'state attorney'),\n",
       " (-11.255402683345064, 'ail'),\n",
       " (-11.255402683345064, 'checkpoint'),\n",
       " (-11.255402683345064, 'depart said'),\n",
       " (-11.255402683345064, 'hudson'),\n",
       " (-11.255402683345064, 'microsoft'),\n",
       " (-11.255402683345064, 'plead guilti'),\n",
       " (-11.255402683345064, 'south korean'),\n",
       " (-11.255402683345064, 'todd'),\n",
       " (-11.255402683345064, 'two men'),\n",
       " (-11.255402683345064, 'undocu immigr'),\n",
       " (-11.214413338811866, 'administr offici'),\n",
       " (-11.214413338811866, 'album'),\n",
       " (-11.214413338811866, 'auction'),\n",
       " (-11.214413338811866, 'commut'),\n",
       " (-11.214413338811866, 'galleri'),\n",
       " (-11.214413338811866, 'jare'),\n",
       " (-11.214413338811866, 'murray'),\n",
       " (-11.214413338811866, 'saturday night'),\n",
       " (-11.214413338811866, 'staff member'),\n",
       " (-11.175038173577036, 'blunt'),\n",
       " (-11.175038173577036, 'capitol hill'),\n",
       " (-11.175038173577036, 'christi'),\n",
       " (-11.175038173577036, 'dylan'),\n",
       " (-11.175038173577036, 'mr comey'),\n",
       " (-11.175038173577036, 'neil'),\n",
       " (-11.175038173577036, 'recent day'),\n",
       " (-11.175038173577036, 'silicon valley'),\n",
       " (-11.175038173577036, 'stadium'),\n",
       " (-11.175038173577036, 'theresa'),\n",
       " (-11.175038173577036, 'west bank'),\n",
       " (-11.175038173577036, 'wore'),\n",
       " (-11.137154855674735, 'charlott'),\n",
       " (-11.137154855674735, 'chat'),\n",
       " (-11.137154855674735, 'depart homeland'),\n",
       " (-11.137154855674735, 'depart homeland secur'),\n",
       " (-11.137154855674735, 'flew'),\n",
       " (-11.137154855674735, 'laura'),\n",
       " (-11.137154855674735, 'nation secur advis'),\n",
       " (-11.137154855674735, 'propel'),\n",
       " (-11.137154855674735, 'report said'),\n",
       " (-11.137154855674735, 'said also'),\n",
       " (-11.137154855674735, 'said like'),\n",
       " (-11.137154855674735, 'said need'),\n",
       " (-11.137154855674735, 'said tuesday'),\n",
       " (-11.137154855674735, 'said wednesday'),\n",
       " (-11.137154855674735, 'state univers'),\n",
       " (-11.100654453455208, 'buse'),\n",
       " (-11.100654453455208, 'fare'),\n",
       " (-11.100654453455208, 'manchest'),\n",
       " (-11.100654453455208, 'mississippi'),\n",
       " (-11.100654453455208, 'mnuchin'),\n",
       " (-11.100654453455208, 'opioid'),\n",
       " (-11.100654453455208, 'perri'),\n",
       " (-11.100654453455208, 'sexual harass'),\n",
       " (-11.065439547164143, 'angel time'),\n",
       " (-11.065439547164143, 'cameron'),\n",
       " (-11.065439547164143, 'hous speaker'),\n",
       " (-11.065439547164143, 'lament'),\n",
       " (-11.065439547164143, 'lo angel time'),\n",
       " (-11.065439547164143, 'marco'),\n",
       " (-11.065439547164143, 'passport'),\n",
       " (-11.065439547164143, 'polic said'),\n",
       " (-11.065439547164143, 'san diego'),\n",
       " (-11.065439547164143, 'schumer'),\n",
       " (-11.065439547164143, 'secur advis'),\n",
       " (-11.065439547164143, 'state senat'),\n",
       " (-11.065439547164143, 'trump told'),\n",
       " (-11.031422661885887, 'comedian'),\n",
       " (-11.031422661885887, 'koch'),\n",
       " (-11.031422661885887, 'marathon'),\n",
       " (-11.031422661885887, 'marketplac'),\n",
       " (-11.031422661885887, 'presid donald'),\n",
       " (-11.031422661885887, 'presid donald trump'),\n",
       " (-11.031422661885887, 'suspens'),\n",
       " (-11.031422661885887, 'tourism'),\n",
       " (-10.998524958378828, 'brazilian'),\n",
       " (-10.998524958378828, 'castro'),\n",
       " (-10.998524958378828, 'feb'),\n",
       " (-10.998524958378828, 'marvel'),\n",
       " (-10.998524958378828, 'oakland'),\n",
       " (-10.998524958378828, 'pelosi'),\n",
       " (-10.998524958378828, 'silicon'),\n",
       " (-10.998524958378828, 'toy'),\n",
       " (-10.998524958378828, 'trump white'),\n",
       " (-10.998524958378828, 'workplac'),\n",
       " (-10.96667513249173, 'ambul'),\n",
       " (-10.96667513249173, 'andi'),\n",
       " (-10.96667513249173, 'assail'),\n",
       " (-10.96667513249173, 'cousin'),\n",
       " (-10.96667513249173, 'dec'),\n",
       " (-10.96667513249173, 'muhammad'),\n",
       " (-10.96667513249173, 'presid said'),\n",
       " (-10.96667513249173, 'run mate'),\n",
       " (-10.96667513249173, 'trump organ'),\n",
       " (-10.935808484511202, 'bench'),\n",
       " (-10.935808484511202, 'campaign promis'),\n",
       " (-10.935808484511202, 'girlfriend'),\n",
       " (-10.935808484511202, 'heroin'),\n",
       " (-10.935808484511202, 'issu statement'),\n",
       " (-10.935808484511202, 'lewi'),\n",
       " (-10.935808484511202, 'news organ'),\n",
       " (-10.935808484511202, 'nightclub'),\n",
       " (-10.935808484511202, 'nod'),\n",
       " (-10.935808484511202, 'rais question'),\n",
       " (-10.935808484511202, 'rhode'),\n",
       " (-10.935808484511202, 'said could'),\n",
       " (-10.935808484511202, 'said peopl'),\n",
       " (-10.935808484511202, 'said think'),\n",
       " (-10.935808484511202, 'tuesday night'),\n",
       " (-10.935808484511202, 'twitter account'),\n",
       " (-10.935808484511202, 'yiannopoulo'),\n",
       " (-10.905866127896124, 'actress'),\n",
       " (-10.905866127896124, 'ambiti'),\n",
       " (-10.905866127896124, 'american worker'),\n",
       " (-10.905866127896124, 'baltimor'),\n",
       " (-10.905866127896124, 'contenti'),\n",
       " (-10.905866127896124, 'deadlin'),\n",
       " (-10.905866127896124, 'defer'),\n",
       " (-10.905866127896124, 'express concern'),\n",
       " (-10.905866127896124, 'felt like'),\n",
       " (-10.905866127896124, 'inspector'),\n",
       " (-10.905866127896124, 'ken'),\n",
       " (-10.905866127896124, 'mr putin'),\n",
       " (-10.905866127896124, 'offici say'),\n",
       " (-10.905866127896124, 'polic chief'),\n",
       " (-10.905866127896124, 'said want'),\n",
       " (-10.905866127896124, 'sharehold'),\n",
       " (-10.905866127896124, 'switzerland'),\n",
       " (-10.905866127896124, 'transit team'),\n",
       " (-10.905866127896124, 'two peopl'),\n",
       " (-10.905866127896124, 'wine'),\n",
       " (-10.876794313074146, 'collin'),\n",
       " (-10.876794313074146, 'curb'),\n",
       " (-10.876794313074146, 'diego'),\n",
       " (-10.876794313074146, 'heel'),\n",
       " (-10.876794313074146, 'hub'),\n",
       " (-10.876794313074146, 'kentucki'),\n",
       " (-10.876794313074146, 'nanci'),\n",
       " (-10.876794313074146, 'offic said'),\n",
       " (-10.876794313074146, 'pink'),\n",
       " (-10.876794313074146, 'plaintiff'),\n",
       " (-10.876794313074146, 'predominantli'),\n",
       " (-10.876794313074146, 'seven year'),\n",
       " (-10.876794313074146, 'simon'),\n",
       " (-10.876794313074146, 'toronto'),\n",
       " (-10.876794313074146, 'vigor'),\n",
       " (-10.876794313074146, 'wilson'),\n",
       " (-10.848543846788296, 'abu'),\n",
       " (-10.848543846788296, 'breitbart news'),\n",
       " (-10.848543846788296, 'briefli'),\n",
       " (-10.848543846788296, 'coat'),\n",
       " (-10.848543846788296, 'decor'),\n",
       " (-10.848543846788296, 'dine'),\n",
       " (-10.848543846788296, 'gestur'),\n",
       " (-10.848543846788296, 'ian'),\n",
       " (-10.848543846788296, 'medicaid'),\n",
       " (-10.848543846788296, 'percent percent'),\n",
       " (-10.848543846788296, 'press secretari'),\n",
       " (-10.848543846788296, 'recept'),\n",
       " (-10.848543846788296, 'reloc'),\n",
       " (-10.848543846788296, 'said ad'),\n",
       " (-10.821069591236046, 'arena'),\n",
       " (-10.821069591236046, 'campus'),\n",
       " (-10.821069591236046, 'fenc'),\n",
       " (-10.821069591236046, 'inmat'),\n",
       " (-10.821069591236046, 'lane'),\n",
       " (-10.821069591236046, 'news outlet'),\n",
       " (-10.821069591236046, 'rubio'),\n",
       " (-10.821069591236046, 'sharpli'),\n",
       " (-10.821069591236046, 'smartphon'),\n",
       " (-10.821069591236046, 'spur'),\n",
       " (-10.821069591236046, 'stanford'),\n",
       " (-10.821069591236046, 'tall'),\n",
       " (-10.821069591236046, 'terror attack'),\n",
       " (-10.821069591236046, 'univers california'),\n",
       " (-10.821069591236046, 'warner'),\n",
       " (-10.794330030194148, 'airplan'),\n",
       " (-10.794330030194148, 'angela'),\n",
       " (-10.794330030194148, 'baton'),\n",
       " (-10.794330030194148, 'casino'),\n",
       " (-10.794330030194148, 'dean'),\n",
       " (-10.794330030194148, 'includ one'),\n",
       " (-10.794330030194148, 'midnight'),\n",
       " (-10.794330030194148, 'motor'),\n",
       " (-10.794330030194148, 'musk'),\n",
       " (-10.794330030194148, 'presid bashar'),\n",
       " (-10.794330030194148, 'segreg'),\n",
       " (-10.794330030194148, 'underscor'),\n",
       " (-10.768286891658128, 'alexand'),\n",
       " (-10.768286891658128, 'antonio'),\n",
       " (-10.768286891658128, 'disney'),\n",
       " (-10.768286891658128, 'enrol'),\n",
       " (-10.768286891658128, 'kitchen'),\n",
       " (-10.768286891658128, 'less like'),\n",
       " (-10.768286891658128, 'loom'),\n",
       " (-10.768286891658128, 'news confer'),\n",
       " (-10.768286891658128, 'peopl kill'),\n",
       " (-10.768286891658128, 'vermont'),\n",
       " (-10.768286891658128, 'walker'),\n",
       " (-10.768286891658128, 'walter'),\n",
       " (-10.74290481838671, 'atlanta'),\n",
       " (-10.74290481838671, 'could also'),\n",
       " (-10.74290481838671, 'could make'),\n",
       " (-10.74290481838671, 'credit card'),\n",
       " (-10.74290481838671, 'groceri'),\n",
       " (-10.74290481838671, 'homicid'),\n",
       " (-10.74290481838671, 'hous senat'),\n",
       " (-10.74290481838671, 'icon'),\n",
       " (-10.74290481838671, 'ivanka'),\n",
       " (-10.74290481838671, 'let us know'),\n",
       " (-10.74290481838671, 'loui'),\n",
       " (-10.74290481838671, 'luxuri'),\n",
       " (-10.74290481838671, 'memoir'),\n",
       " (-10.74290481838671, 'pit'),\n",
       " (-10.74290481838671, 'said go'),\n",
       " (-10.74290481838671, 'said interview'),\n",
       " (-10.74290481838671, 'said know'),\n",
       " (-10.74290481838671, 'trump republican'),\n",
       " (-10.74290481838671, 'would help'),\n",
       " (-10.74290481838671, 'would need'),\n",
       " (-10.718151079233772, 'chuck'),\n",
       " (-10.718151079233772, 'connecticut'),\n",
       " (-10.718151079233772, 'greet'),\n",
       " (-10.718151079233772, 'knife'),\n",
       " (-10.718151079233772, 'law firm'),\n",
       " (-10.718151079233772, 'louisiana'),\n",
       " (-10.718151079233772, 'museum'),\n",
       " (-10.718151079233772, 'musician'),\n",
       " (-10.718151079233772, 'netflix'),\n",
       " (-10.718151079233772, 'new england'),\n",
       " (-10.718151079233772, 'obama said'),\n",
       " (-10.718151079233772, 'parad'),\n",
       " (-10.718151079233772, 'scrambl'),\n",
       " (-10.718151079233772, 'tennesse'),\n",
       " (-10.693995315354437, 'architectur'),\n",
       " (-10.693995315354437, 'court rule'),\n",
       " (-10.693995315354437, 'emiss'),\n",
       " (-10.693995315354437, 'entranc'),\n",
       " (-10.693995315354437, 'flavor'),\n",
       " (-10.693995315354437, 'klein'),\n",
       " (-10.693995315354437, 'la vega'),\n",
       " (-10.693995315354437, 'maduro'),\n",
       " (-10.693995315354437, 'psychologist'),\n",
       " (-10.693995315354437, 'secur forc'),\n",
       " (-10.693995315354437, 'snapchat'),\n",
       " (-10.693995315354437, 'spotlight'),\n",
       " (-10.693995315354437, 'stall'),\n",
       " (-10.670409316348557, 'alaska'),\n",
       " (-10.670409316348557, 'avenu'),\n",
       " (-10.670409316348557, 'boom'),\n",
       " (-10.670409316348557, 'chancellor'),\n",
       " (-10.670409316348557, 'desk'),\n",
       " (-10.670409316348557, 'detent'),\n",
       " (-10.670409316348557, 'district court'),\n",
       " (-10.670409316348557, 'feder judg'),\n",
       " (-10.670409316348557, 'gray'),\n",
       " (-10.670409316348557, 'hedg fund'),\n",
       " (-10.670409316348557, 'howard'),\n",
       " (-10.670409316348557, 'inspect'),\n",
       " (-10.670409316348557, 'look back'),\n",
       " (-10.670409316348557, 'modest'),\n",
       " (-10.670409316348557, 'nation convent'),\n",
       " (-10.670409316348557, 'new yorker'),\n",
       " (-10.670409316348557, 'pant'),\n",
       " (-10.670409316348557, 'scalia'),\n",
       " (-10.670409316348557, 'seattl'),\n",
       " (-10.670409316348557, 'skip'),\n",
       " (-10.670409316348557, 'state offici'),\n",
       " (-10.670409316348557, 'swept'),\n",
       " (-10.670409316348557, 'tel'),\n",
       " (-10.670409316348557, 'thick'),\n",
       " (-10.670409316348557, 'turmoil'),\n",
       " (-10.670409316348557, 'twin'),\n",
       " (-10.670409316348557, 'uber'),\n",
       " (-10.670409316348557, 'vocal'),\n",
       " (-10.670409316348557, 'yorker'),\n",
       " (-10.647366822201402, 'aaron'),\n",
       " (-10.647366822201402, 'bolton'),\n",
       " (-10.647366822201402, 'caucu'),\n",
       " (-10.647366822201402, 'conway'),\n",
       " (-10.647366822201402, 'crackdown'),\n",
       " (-10.647366822201402, 'forg'),\n",
       " (-10.647366822201402, 'lion'),\n",
       " (-10.647366822201402, 'maria'),\n",
       " (-10.647366822201402, 'mental health'),\n",
       " (-10.647366822201402, 'oscar')]"
      ]
     },
     "execution_count": 54,
     "metadata": {},
     "output_type": "execute_result"
    }
   ],
   "source": [
    "### Most fake\n",
    "sorted(zip(classifier.coef_[0], feature_names))[:500]"
   ]
  },
  {
   "cell_type": "code",
   "execution_count": null,
   "metadata": {},
   "outputs": [],
   "source": []
  }
 ],
 "metadata": {
  "kernelspec": {
   "display_name": "Python 3",
   "language": "python",
   "name": "python3"
  },
  "language_info": {
   "codemirror_mode": {
    "name": "ipython",
    "version": 3
   },
   "file_extension": ".py",
   "mimetype": "text/x-python",
   "name": "python",
   "nbconvert_exporter": "python",
   "pygments_lexer": "ipython3",
   "version": "3.7.1"
  }
 },
 "nbformat": 4,
 "nbformat_minor": 2
}
